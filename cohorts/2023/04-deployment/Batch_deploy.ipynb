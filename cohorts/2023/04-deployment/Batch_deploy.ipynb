{
  "cells": [
    {
      "cell_type": "code",
      "execution_count": null,
      "id": "2c51efaa",
      "metadata": {
        "id": "2c51efaa",
        "outputId": "aee984ce-2c34-452f-b8d8-314080d4eb45"
      },
      "outputs": [
        {
          "name": "stderr",
          "output_type": "stream",
          "text": [
            "'grep' is not recognized as an internal or external command,\n",
            "operable program or batch file.\n"
          ]
        }
      ],
      "source": [
        "!pip freeze | grep scikit-learn"
      ]
    },
    {
      "cell_type": "code",
      "execution_count": 2,
      "id": "0ef880a0",
      "metadata": {
        "id": "0ef880a0"
      },
      "outputs": [],
      "source": [
        "import pickle\n",
        "import pandas as pd"
      ]
    },
    {
      "cell_type": "code",
      "execution_count": 4,
      "id": "7836ccfd",
      "metadata": {
        "id": "7836ccfd"
      },
      "outputs": [],
      "source": [
        "with open('/content/drive/MyDrive/MLOPs Zoomcamp/Data/model.bin', 'rb') as f_in:\n",
        "    dv, model = pickle.load(f_in)"
      ]
    },
    {
      "cell_type": "code",
      "source": [
        "from google.colab import drive\n",
        "drive.mount('/content/drive')"
      ],
      "metadata": {
        "colab": {
          "base_uri": "https://localhost:8080/"
        },
        "id": "LB-4vh8RWvlK",
        "outputId": "22b365c6-382b-4473-d5e3-b6a149e546ce"
      },
      "id": "LB-4vh8RWvlK",
      "execution_count": 3,
      "outputs": [
        {
          "output_type": "stream",
          "name": "stdout",
          "text": [
            "Mounted at /content/drive\n"
          ]
        }
      ]
    },
    {
      "cell_type": "code",
      "execution_count": 5,
      "id": "41c08294",
      "metadata": {
        "id": "41c08294"
      },
      "outputs": [],
      "source": [
        "categorical = ['PULocationID', 'DOLocationID']\n",
        "\n",
        "def read_data(filename):\n",
        "    df = pd.read_parquet(filename)\n",
        "\n",
        "    df['duration'] = df.tpep_dropoff_datetime - df.tpep_pickup_datetime\n",
        "    df['duration'] = df.duration.dt.total_seconds() / 60\n",
        "\n",
        "    df = df[(df.duration >= 1) & (df.duration <= 60)].copy()\n",
        "\n",
        "    df[categorical] = df[categorical].fillna(-1).astype('int').astype('str')\n",
        "\n",
        "    return df"
      ]
    },
    {
      "cell_type": "code",
      "execution_count": 6,
      "id": "4854399a",
      "metadata": {
        "id": "4854399a"
      },
      "outputs": [],
      "source": [
        "df = read_data('https://d37ci6vzurychx.cloudfront.net/trip-data/yellow_tripdata_2022-02.parquet')"
      ]
    },
    {
      "cell_type": "code",
      "execution_count": 7,
      "id": "669fda0a",
      "metadata": {
        "id": "669fda0a"
      },
      "outputs": [],
      "source": [
        "dicts = df[categorical].to_dict(orient='records')\n",
        "X_val = dv.transform(dicts)\n",
        "y_pred = model.predict(X_val)"
      ]
    },
    {
      "cell_type": "code",
      "execution_count": 8,
      "id": "8f5b2652",
      "metadata": {
        "id": "8f5b2652"
      },
      "outputs": [],
      "source": [
        "import numpy as np"
      ]
    },
    {
      "cell_type": "code",
      "execution_count": 9,
      "id": "0b740493",
      "metadata": {
        "colab": {
          "base_uri": "https://localhost:8080/"
        },
        "id": "0b740493",
        "outputId": "e536c2aa-6862-4a67-9554-cd4dc807eddf"
      },
      "outputs": [
        {
          "output_type": "execute_result",
          "data": {
            "text/plain": [
              "5.28140357655334"
            ]
          },
          "metadata": {},
          "execution_count": 9
        }
      ],
      "source": [
        "np.std(y_pred)"
      ]
    },
    {
      "cell_type": "code",
      "execution_count": 10,
      "id": "3d169da3",
      "metadata": {
        "id": "3d169da3"
      },
      "outputs": [],
      "source": [
        "year = 2022\n",
        "month = 2\n",
        "output_file = f'{year:04d}-{month:02d}.parquet'"
      ]
    },
    {
      "cell_type": "code",
      "source": [
        "df_result = pd.DataFrame()"
      ],
      "metadata": {
        "id": "QEvisBMObvdj"
      },
      "id": "QEvisBMObvdj",
      "execution_count": 11,
      "outputs": []
    },
    {
      "cell_type": "code",
      "execution_count": 12,
      "id": "533c8492",
      "metadata": {
        "id": "533c8492"
      },
      "outputs": [],
      "source": [
        "df_result['ride_id'] = f'{year:04d}/{month:02d}_' + df.index.astype('str')\n",
        "df_result['predicted_duration'] = y_pred"
      ]
    },
    {
      "cell_type": "code",
      "execution_count": 13,
      "id": "7395c9ac",
      "metadata": {
        "id": "7395c9ac"
      },
      "outputs": [],
      "source": [
        "df_result.to_parquet(\n",
        "    '/content/drive/MyDrive/MLOPs Zoomcamp/Data/' + output_file,\n",
        "    engine='pyarrow',\n",
        "    compression=None,\n",
        "    index=False\n",
        ")"
      ]
    },
    {
      "cell_type": "code",
      "execution_count": 14,
      "id": "dfe0a402",
      "metadata": {
        "colab": {
          "base_uri": "https://localhost:8080/",
          "height": 36
        },
        "id": "dfe0a402",
        "outputId": "258d85c9-91b4-4a32-ca36-c84e2043212c"
      },
      "outputs": [
        {
          "output_type": "execute_result",
          "data": {
            "text/plain": [
              "'2022-02.parquet'"
            ],
            "application/vnd.google.colaboratory.intrinsic+json": {
              "type": "string"
            }
          },
          "metadata": {},
          "execution_count": 14
        }
      ],
      "source": [
        "output_file"
      ]
    },
    {
      "cell_type": "code",
      "source": [
        "#parameterized version starts below"
      ],
      "metadata": {
        "id": "qNQia2-_Xghg"
      },
      "id": "qNQia2-_Xghg",
      "execution_count": 15,
      "outputs": []
    },
    {
      "cell_type": "code",
      "source": [
        "import pickle\n",
        "import pandas as pd\n",
        "import numpy as np"
      ],
      "metadata": {
        "id": "O7rTmNn86OuW"
      },
      "id": "O7rTmNn86OuW",
      "execution_count": 22,
      "outputs": []
    },
    {
      "cell_type": "code",
      "source": [
        "def read_data(filename):\n",
        "    df = pd.read_parquet(filename)\n",
        "\n",
        "    df['duration'] = df.tpep_dropoff_datetime - df.tpep_pickup_datetime\n",
        "    df['duration'] = df.duration.dt.total_seconds() / 60\n",
        "\n",
        "    df = df[(df.duration >= 1) & (df.duration <= 60)].copy()\n",
        "\n",
        "    df[categorical] = df[categorical].fillna(-1).astype('int').astype('str')\n",
        "\n",
        "    return df"
      ],
      "metadata": {
        "id": "2DrjNuJ46Yln"
      },
      "id": "2DrjNuJ46Yln",
      "execution_count": 23,
      "outputs": []
    },
    {
      "cell_type": "code",
      "source": [
        "def load_model(model_path):\n",
        "    with open(model_path, 'rb') as f_in:\n",
        "        dv, model = pickle.load(f_in)\n",
        "    return dv,model"
      ],
      "metadata": {
        "id": "7JbULP926oMO"
      },
      "id": "7JbULP926oMO",
      "execution_count": 24,
      "outputs": []
    },
    {
      "cell_type": "code",
      "source": [
        "def get_pred(df,dv,model):\n",
        "  dicts = df[categorical].to_dict(orient='records')\n",
        "  X_val = dv.transform(dicts)\n",
        "  y_pred = model.predict(X_val)\n",
        "  return y_pred"
      ],
      "metadata": {
        "id": "aJ2SoGnc776c"
      },
      "id": "aJ2SoGnc776c",
      "execution_count": 25,
      "outputs": []
    },
    {
      "cell_type": "code",
      "source": [
        "def save_results(df, y_pred, output_file):\n",
        "    df_result = pd.DataFrame()\n",
        "    df_result['ride_id'] = f'{year:04d}/{month:02d}_' + df.index.astype('str')\n",
        "    df_result['predicted_duration'] = y_pred\n",
        "\n",
        "    df_result.to_parquet(\n",
        "    '/content/drive/MyDrive/MLOPs Zoomcamp/Data/' + output_file,\n",
        "    engine='pyarrow',\n",
        "    compression=None,\n",
        "    index=False)\n",
        "\n",
        "    df_result.to_parquet(output_file, index=False)"
      ],
      "metadata": {
        "id": "pasVD8Di7i0a"
      },
      "id": "pasVD8Di7i0a",
      "execution_count": 26,
      "outputs": []
    },
    {
      "cell_type": "code",
      "source": [
        "def run():\n",
        "  year = 2022\n",
        "  month = 2\n",
        "  input_file = 'https://d37ci6vzurychx.cloudfront.net/trip-data/yellow_tripdata_2022-02.parquet'\n",
        "  output_file = f'{year:04d}-{month:02d}.parquet'\n",
        "  model_path = '/content/drive/MyDrive/MLOPs Zoomcamp/Data/model.bin'\n",
        "  df = read_data(input_file)\n",
        "  dv,model = load_model(model_path)\n",
        "  y_pred = get_pred(df,dv,model)\n",
        "  save_results(df, y_pred, output_file)"
      ],
      "metadata": {
        "id": "zn3b3AX38Pye"
      },
      "id": "zn3b3AX38Pye",
      "execution_count": 27,
      "outputs": []
    },
    {
      "cell_type": "code",
      "source": [
        "run()"
      ],
      "metadata": {
        "id": "8AuTnW6I9GyY"
      },
      "id": "8AuTnW6I9GyY",
      "execution_count": 28,
      "outputs": []
    },
    {
      "cell_type": "code",
      "source": [
        "def run2():\n",
        "  year = 2022\n",
        "  month = 3\n",
        "  input_file = 'https://d37ci6vzurychx.cloudfront.net/trip-data/yellow_tripdata_2022-03.parquet'\n",
        "  output_file = f'{year:04d}-{month:02d}.parquet'\n",
        "  model_path = '/content/drive/MyDrive/MLOPs Zoomcamp/Data/model.bin'\n",
        "  df = read_data(input_file)\n",
        "  dv,model = load_model(model_path)\n",
        "  y_pred = get_pred(df,dv,model)\n",
        "  save_results(df, y_pred, output_file)\n",
        "  return np.mean(y_pred)"
      ],
      "metadata": {
        "id": "zTYUQ2gq9Hm-"
      },
      "id": "zTYUQ2gq9Hm-",
      "execution_count": 31,
      "outputs": []
    },
    {
      "cell_type": "code",
      "source": [
        "run2()"
      ],
      "metadata": {
        "colab": {
          "base_uri": "https://localhost:8080/"
        },
        "id": "pQayIoExCswD",
        "outputId": "a01049b4-7663-41e4-8705-b09c8948127d"
      },
      "id": "pQayIoExCswD",
      "execution_count": 32,
      "outputs": [
        {
          "output_type": "execute_result",
          "data": {
            "text/plain": [
              "12.758556818790902"
            ]
          },
          "metadata": {},
          "execution_count": 32
        }
      ]
    },
    {
      "cell_type": "code",
      "source": [
        "def run3():\n",
        "  year = 2022\n",
        "  month = 4\n",
        "  input_file = 'https://d37ci6vzurychx.cloudfront.net/trip-data/yellow_tripdata_2022-04.parquet'\n",
        "  output_file = f'{year:04d}-{month:02d}.parquet'\n",
        "  model_path = '/content/drive/MyDrive/MLOPs Zoomcamp/Data/model.bin'\n",
        "  df = read_data(input_file)\n",
        "  dv,model = load_model(model_path)\n",
        "  y_pred = get_pred(df,dv,model)\n",
        "  save_results(df, y_pred, output_file)\n",
        "  return np.mean(y_pred)"
      ],
      "metadata": {
        "id": "xkWbcI3nCuLP"
      },
      "id": "xkWbcI3nCuLP",
      "execution_count": 33,
      "outputs": []
    },
    {
      "cell_type": "code",
      "source": [
        "run3()"
      ],
      "metadata": {
        "colab": {
          "base_uri": "https://localhost:8080/"
        },
        "id": "EyvKhrb0FVtL",
        "outputId": "e545c729-811a-4c6f-f280-a215890337a7"
      },
      "id": "EyvKhrb0FVtL",
      "execution_count": 34,
      "outputs": [
        {
          "output_type": "execute_result",
          "data": {
            "text/plain": [
              "12.865128336784926"
            ]
          },
          "metadata": {},
          "execution_count": 34
        }
      ]
    },
    {
      "cell_type": "code",
      "source": [],
      "metadata": {
        "id": "jprGg520FWqZ"
      },
      "id": "jprGg520FWqZ",
      "execution_count": null,
      "outputs": []
    }
  ],
  "metadata": {
    "kernelspec": {
      "display_name": "Python 3 (ipykernel)",
      "language": "python",
      "name": "python3"
    },
    "language_info": {
      "codemirror_mode": {
        "name": "ipython",
        "version": 3
      },
      "file_extension": ".py",
      "mimetype": "text/x-python",
      "name": "python",
      "nbconvert_exporter": "python",
      "pygments_lexer": "ipython3",
      "version": "3.8.16"
    },
    "colab": {
      "provenance": []
    }
  },
  "nbformat": 4,
  "nbformat_minor": 5
}