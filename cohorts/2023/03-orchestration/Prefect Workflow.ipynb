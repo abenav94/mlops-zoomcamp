{
 "cells": [
  {
   "cell_type": "code",
   "execution_count": 31,
   "id": "2a894dec",
   "metadata": {},
   "outputs": [],
   "source": [
    "import pathlib\n",
    "import pickle\n",
    "import pandas as pd\n",
    "import numpy as np\n",
    "import scipy\n",
    "import sklearn\n",
    "from sklearn.feature_extraction import DictVectorizer\n",
    "from sklearn.metrics import mean_squared_error\n",
    "import mlflow\n",
    "import xgboost as xgb\n",
    "from prefect import flow, task\n",
    "from prefect.artifacts import create_markdown_artifact\n",
    "from datetime import date"
   ]
  },
  {
   "cell_type": "code",
   "execution_count": 32,
   "id": "4cc669f5",
   "metadata": {},
   "outputs": [],
   "source": [
    "@task(retries=3, retry_delay_seconds=2,name = \"Read taxi data 2023 files\")\n",
    "def read_data(filename: str) -> pd.DataFrame:\n",
    "    \"\"\"Read data into DataFrame\"\"\"\n",
    "    df = pd.read_parquet(filename)\n",
    "\n",
    "    df.lpep_dropoff_datetime = pd.to_datetime(df.lpep_dropoff_datetime)\n",
    "    df.lpep_pickup_datetime = pd.to_datetime(df.lpep_pickup_datetime)\n",
    "\n",
    "    df[\"duration\"] = df.lpep_dropoff_datetime - df.lpep_pickup_datetime\n",
    "    df.duration = df.duration.apply(lambda td: td.total_seconds() / 60)\n",
    "\n",
    "    df = df[(df.duration >= 1) & (df.duration <= 60)]\n",
    "\n",
    "    categorical = [\"PULocationID\", \"DOLocationID\"]\n",
    "    df[categorical] = df[categorical].astype(str)\n",
    "\n",
    "    return df"
   ]
  },
  {
   "cell_type": "code",
   "execution_count": 33,
   "id": "2053182c",
   "metadata": {},
   "outputs": [],
   "source": [
    "@task(name = \"Create new features from data\")\n",
    "def add_features(\n",
    "    df_train: pd.DataFrame, df_val: pd.DataFrame\n",
    ") -> tuple(\n",
    "    [\n",
    "        scipy.sparse._csr.csr_matrix,\n",
    "        scipy.sparse._csr.csr_matrix,\n",
    "        np.ndarray,\n",
    "        np.ndarray,\n",
    "        sklearn.feature_extraction.DictVectorizer,\n",
    "    ]\n",
    "):\n",
    "    \"\"\"Add features to the model\"\"\"\n",
    "    df_train[\"PU_DO\"] = df_train[\"PULocationID\"] + \"_\" + df_train[\"DOLocationID\"]\n",
    "    df_val[\"PU_DO\"] = df_val[\"PULocationID\"] + \"_\" + df_val[\"DOLocationID\"]\n",
    "\n",
    "    categorical = [\"PU_DO\"]  #'PULocationID', 'DOLocationID']\n",
    "    numerical = [\"trip_distance\"]\n",
    "\n",
    "    dv = DictVectorizer()\n",
    "\n",
    "    train_dicts = df_train[categorical + numerical].to_dict(orient=\"records\")\n",
    "    X_train = dv.fit_transform(train_dicts)\n",
    "\n",
    "    val_dicts = df_val[categorical + numerical].to_dict(orient=\"records\")\n",
    "    X_val = dv.transform(val_dicts)\n",
    "\n",
    "    y_train = df_train[\"duration\"].values\n",
    "    y_val = df_val[\"duration\"].values\n",
    "    return X_train, X_val, y_train, y_val, dv"
   ]
  },
  {
   "cell_type": "code",
   "execution_count": 34,
   "id": "f2e2e629",
   "metadata": {},
   "outputs": [],
   "source": [
    "@task(log_prints=True,name = \"Train best model and test it\")\n",
    "def train_best_model(\n",
    "    X_train: scipy.sparse._csr.csr_matrix,\n",
    "    X_val: scipy.sparse._csr.csr_matrix,\n",
    "    y_train: np.ndarray,\n",
    "    y_val: np.ndarray,\n",
    "    dv: sklearn.feature_extraction.DictVectorizer,\n",
    ") -> None:\n",
    "    \"\"\"train a model with best hyperparams and write everything out\"\"\"\n",
    "\n",
    "    with mlflow.start_run():\n",
    "        train = xgb.DMatrix(X_train, label=y_train)\n",
    "        valid = xgb.DMatrix(X_val, label=y_val)\n",
    "\n",
    "        best_params = {\n",
    "            \"learning_rate\": 0.09585355369315604,\n",
    "            \"max_depth\": 30,\n",
    "            \"min_child_weight\": 1.060597050922164,\n",
    "            \"objective\": \"reg:linear\",\n",
    "            \"reg_alpha\": 0.018060244040060163,\n",
    "            \"reg_lambda\": 0.011658731377413597,\n",
    "            \"seed\": 42,\n",
    "        }\n",
    "\n",
    "        mlflow.log_params(best_params)\n",
    "\n",
    "        booster = xgb.train(\n",
    "            params=best_params,\n",
    "            dtrain=train,\n",
    "            num_boost_round=100,\n",
    "            evals=[(valid, \"validation\")],\n",
    "            early_stopping_rounds=20,\n",
    "        )\n",
    "\n",
    "        y_pred = booster.predict(valid)\n",
    "        rmse = mean_squared_error(y_val, y_pred, squared=False)\n",
    "        mlflow.log_metric(\"rmse\", rmse)\n",
    "\n",
    "        pathlib.Path(\"models\").mkdir(exist_ok=True)\n",
    "        with open(\"models/preprocessor.b\", \"wb\") as f_out:\n",
    "            pickle.dump(dv, f_out)\n",
    "        mlflow.log_artifact(\"models/preprocessor.b\", artifact_path=\"preprocessor\")\n",
    "\n",
    "        mlflow.xgboost.log_model(booster, artifact_path=\"models_mlflow\")\n",
    "        \n",
    "        markdown__rmse_report = f\"\"\"# RMSE Report\n",
    "\n",
    "        ## Summary\n",
    "\n",
    "        Duration Prediction \n",
    "\n",
    "        ## RMSE XGBoost Model\n",
    "\n",
    "        | Region    | RMSE |\n",
    "        |:----------|-------:|\n",
    "        | {date.today()} | {rmse:.2f} |\n",
    "        \"\"\"\n",
    "\n",
    "        create_markdown_artifact(\n",
    "            key=\"duration-model-report\", markdown=markdown__rmse_report\n",
    "        )\n",
    "        \n",
    "    return None"
   ]
  },
  {
   "cell_type": "code",
   "execution_count": 35,
   "id": "3d32ad9a",
   "metadata": {},
   "outputs": [],
   "source": [
    "@flow(name = \"Overall Workflow for pipeline\")\n",
    "def main_flow(\n",
    "    train_path: str = \"C:/Project/MLOPs/Data/green_tripdata_2023-01.parquet\",\n",
    "    val_path: str = \"C:/Project/MLOPs/Data/green_tripdata_2023-02.parquet\",\n",
    ") -> None:\n",
    "    \"\"\"The main training pipeline\"\"\"\n",
    "\n",
    "    # MLflow settings\n",
    "    mlflow.set_tracking_uri(\"sqlite:///mlflow.db\")\n",
    "    mlflow.set_experiment(\"nyc-taxi-experiment\")\n",
    "\n",
    "    # Load\n",
    "    df_train = read_data(train_path)\n",
    "    df_val = read_data(val_path)\n",
    "\n",
    "    # Transform\n",
    "    X_train, X_val, y_train, y_val, dv = add_features(df_train, df_val)\n",
    "\n",
    "    # Train\n",
    "    train_best_model(X_train, X_val, y_train, y_val, dv)"
   ]
  },
  {
   "cell_type": "code",
   "execution_count": 36,
   "id": "110ab153",
   "metadata": {},
   "outputs": [
    {
     "data": {
      "text/html": [
       "<pre style=\"white-space:pre;overflow-x:auto;line-height:normal;font-family:Menlo,'DejaVu Sans Mono',consolas,'Courier New',monospace\">23:21:18.729 | <span style=\"color: #008080; text-decoration-color: #008080\">INFO</span>    | prefect.engine - Created flow run<span style=\"color: #800080; text-decoration-color: #800080\"> 'great-taipan'</span> for flow<span style=\"color: #800080; text-decoration-color: #800080; font-weight: bold\"> 'Overall Workflow for pipeline'</span>\n",
       "</pre>\n"
      ],
      "text/plain": [
       "23:21:18.729 | \u001b[36mINFO\u001b[0m    | prefect.engine - Created flow run\u001b[35m 'great-taipan'\u001b[0m for flow\u001b[1;35m 'Overall Workflow for pipeline'\u001b[0m\n"
      ]
     },
     "metadata": {},
     "output_type": "display_data"
    },
    {
     "data": {
      "text/html": [
       "<pre style=\"white-space:pre;overflow-x:auto;line-height:normal;font-family:Menlo,'DejaVu Sans Mono',consolas,'Courier New',monospace\">23:21:19.003 | <span style=\"color: #008080; text-decoration-color: #008080\">INFO</span>    | Flow run<span style=\"color: #800080; text-decoration-color: #800080\"> 'great-taipan'</span> - Created task run 'Read taxi data 2023 files-0' for task 'Read taxi data 2023 files'\n",
       "</pre>\n"
      ],
      "text/plain": [
       "23:21:19.003 | \u001b[36mINFO\u001b[0m    | Flow run\u001b[35m 'great-taipan'\u001b[0m - Created task run 'Read taxi data 2023 files-0' for task 'Read taxi data 2023 files'\n"
      ]
     },
     "metadata": {},
     "output_type": "display_data"
    },
    {
     "data": {
      "text/html": [
       "<pre style=\"white-space:pre;overflow-x:auto;line-height:normal;font-family:Menlo,'DejaVu Sans Mono',consolas,'Courier New',monospace\">23:21:19.012 | <span style=\"color: #008080; text-decoration-color: #008080\">INFO</span>    | Flow run<span style=\"color: #800080; text-decoration-color: #800080\"> 'great-taipan'</span> - Executing 'Read taxi data 2023 files-0' immediately...\n",
       "</pre>\n"
      ],
      "text/plain": [
       "23:21:19.012 | \u001b[36mINFO\u001b[0m    | Flow run\u001b[35m 'great-taipan'\u001b[0m - Executing 'Read taxi data 2023 files-0' immediately...\n"
      ]
     },
     "metadata": {},
     "output_type": "display_data"
    },
    {
     "data": {
      "text/html": [
       "<pre style=\"white-space:pre;overflow-x:auto;line-height:normal;font-family:Menlo,'DejaVu Sans Mono',consolas,'Courier New',monospace\">23:21:19.548 | <span style=\"color: #008080; text-decoration-color: #008080\">INFO</span>    | Task run 'Read taxi data 2023 files-0' - Finished in state <span style=\"color: #008000; text-decoration-color: #008000\">Completed</span>()\n",
       "</pre>\n"
      ],
      "text/plain": [
       "23:21:19.548 | \u001b[36mINFO\u001b[0m    | Task run 'Read taxi data 2023 files-0' - Finished in state \u001b[32mCompleted\u001b[0m()\n"
      ]
     },
     "metadata": {},
     "output_type": "display_data"
    },
    {
     "data": {
      "text/html": [
       "<pre style=\"white-space:pre;overflow-x:auto;line-height:normal;font-family:Menlo,'DejaVu Sans Mono',consolas,'Courier New',monospace\">23:21:19.589 | <span style=\"color: #008080; text-decoration-color: #008080\">INFO</span>    | Flow run<span style=\"color: #800080; text-decoration-color: #800080\"> 'great-taipan'</span> - Created task run 'Read taxi data 2023 files-1' for task 'Read taxi data 2023 files'\n",
       "</pre>\n"
      ],
      "text/plain": [
       "23:21:19.589 | \u001b[36mINFO\u001b[0m    | Flow run\u001b[35m 'great-taipan'\u001b[0m - Created task run 'Read taxi data 2023 files-1' for task 'Read taxi data 2023 files'\n"
      ]
     },
     "metadata": {},
     "output_type": "display_data"
    },
    {
     "data": {
      "text/html": [
       "<pre style=\"white-space:pre;overflow-x:auto;line-height:normal;font-family:Menlo,'DejaVu Sans Mono',consolas,'Courier New',monospace\">23:21:19.597 | <span style=\"color: #008080; text-decoration-color: #008080\">INFO</span>    | Flow run<span style=\"color: #800080; text-decoration-color: #800080\"> 'great-taipan'</span> - Executing 'Read taxi data 2023 files-1' immediately...\n",
       "</pre>\n"
      ],
      "text/plain": [
       "23:21:19.597 | \u001b[36mINFO\u001b[0m    | Flow run\u001b[35m 'great-taipan'\u001b[0m - Executing 'Read taxi data 2023 files-1' immediately...\n"
      ]
     },
     "metadata": {},
     "output_type": "display_data"
    },
    {
     "data": {
      "text/html": [
       "<pre style=\"white-space:pre;overflow-x:auto;line-height:normal;font-family:Menlo,'DejaVu Sans Mono',consolas,'Courier New',monospace\">23:21:20.071 | <span style=\"color: #008080; text-decoration-color: #008080\">INFO</span>    | Task run 'Read taxi data 2023 files-1' - Finished in state <span style=\"color: #008000; text-decoration-color: #008000\">Completed</span>()\n",
       "</pre>\n"
      ],
      "text/plain": [
       "23:21:20.071 | \u001b[36mINFO\u001b[0m    | Task run 'Read taxi data 2023 files-1' - Finished in state \u001b[32mCompleted\u001b[0m()\n"
      ]
     },
     "metadata": {},
     "output_type": "display_data"
    },
    {
     "data": {
      "text/html": [
       "<pre style=\"white-space:pre;overflow-x:auto;line-height:normal;font-family:Menlo,'DejaVu Sans Mono',consolas,'Courier New',monospace\">23:21:20.119 | <span style=\"color: #008080; text-decoration-color: #008080\">INFO</span>    | Flow run<span style=\"color: #800080; text-decoration-color: #800080\"> 'great-taipan'</span> - Created task run 'Create new features from data-0' for task 'Create new features from data'\n",
       "</pre>\n"
      ],
      "text/plain": [
       "23:21:20.119 | \u001b[36mINFO\u001b[0m    | Flow run\u001b[35m 'great-taipan'\u001b[0m - Created task run 'Create new features from data-0' for task 'Create new features from data'\n"
      ]
     },
     "metadata": {},
     "output_type": "display_data"
    },
    {
     "data": {
      "text/html": [
       "<pre style=\"white-space:pre;overflow-x:auto;line-height:normal;font-family:Menlo,'DejaVu Sans Mono',consolas,'Courier New',monospace\">23:21:20.119 | <span style=\"color: #008080; text-decoration-color: #008080\">INFO</span>    | Flow run<span style=\"color: #800080; text-decoration-color: #800080\"> 'great-taipan'</span> - Executing 'Create new features from data-0' immediately...\n",
       "</pre>\n"
      ],
      "text/plain": [
       "23:21:20.119 | \u001b[36mINFO\u001b[0m    | Flow run\u001b[35m 'great-taipan'\u001b[0m - Executing 'Create new features from data-0' immediately...\n"
      ]
     },
     "metadata": {},
     "output_type": "display_data"
    },
    {
     "data": {
      "text/html": [
       "<pre style=\"white-space:pre;overflow-x:auto;line-height:normal;font-family:Menlo,'DejaVu Sans Mono',consolas,'Courier New',monospace\">23:21:21.257 | <span style=\"color: #008080; text-decoration-color: #008080\">INFO</span>    | Task run 'Create new features from data-0' - Finished in state <span style=\"color: #008000; text-decoration-color: #008000\">Completed</span>()\n",
       "</pre>\n"
      ],
      "text/plain": [
       "23:21:21.257 | \u001b[36mINFO\u001b[0m    | Task run 'Create new features from data-0' - Finished in state \u001b[32mCompleted\u001b[0m()\n"
      ]
     },
     "metadata": {},
     "output_type": "display_data"
    },
    {
     "data": {
      "text/html": [
       "<pre style=\"white-space:pre;overflow-x:auto;line-height:normal;font-family:Menlo,'DejaVu Sans Mono',consolas,'Courier New',monospace\">23:21:21.309 | <span style=\"color: #008080; text-decoration-color: #008080\">INFO</span>    | Flow run<span style=\"color: #800080; text-decoration-color: #800080\"> 'great-taipan'</span> - Created task run 'Train best model and test it-0' for task 'Train best model and test it'\n",
       "</pre>\n"
      ],
      "text/plain": [
       "23:21:21.309 | \u001b[36mINFO\u001b[0m    | Flow run\u001b[35m 'great-taipan'\u001b[0m - Created task run 'Train best model and test it-0' for task 'Train best model and test it'\n"
      ]
     },
     "metadata": {},
     "output_type": "display_data"
    },
    {
     "data": {
      "text/html": [
       "<pre style=\"white-space:pre;overflow-x:auto;line-height:normal;font-family:Menlo,'DejaVu Sans Mono',consolas,'Courier New',monospace\">23:21:21.315 | <span style=\"color: #008080; text-decoration-color: #008080\">INFO</span>    | Flow run<span style=\"color: #800080; text-decoration-color: #800080\"> 'great-taipan'</span> - Executing 'Train best model and test it-0' immediately...\n",
       "</pre>\n"
      ],
      "text/plain": [
       "23:21:21.315 | \u001b[36mINFO\u001b[0m    | Flow run\u001b[35m 'great-taipan'\u001b[0m - Executing 'Train best model and test it-0' immediately...\n"
      ]
     },
     "metadata": {},
     "output_type": "display_data"
    },
    {
     "data": {
      "text/html": [
       "<pre style=\"white-space:pre;overflow-x:auto;line-height:normal;font-family:Menlo,'DejaVu Sans Mono',consolas,'Courier New',monospace\">23:21:21.614 | <span style=\"color: #008080; text-decoration-color: #008080\">INFO</span>    | Task run 'Train best model and test it-0' - [0]        validation-rmse:15.01389\n",
       "</pre>\n"
      ],
      "text/plain": [
       "23:21:21.614 | \u001b[36mINFO\u001b[0m    | Task run 'Train best model and test it-0' - [0]        validation-rmse:15.01389\n"
      ]
     },
     "metadata": {},
     "output_type": "display_data"
    },
    {
     "data": {
      "text/html": [
       "<pre style=\"white-space:pre;overflow-x:auto;line-height:normal;font-family:Menlo,'DejaVu Sans Mono',consolas,'Courier New',monospace\">23:21:21.720 | <span style=\"color: #008080; text-decoration-color: #008080\">INFO</span>    | Task run 'Train best model and test it-0' - [1]        validation-rmse:13.77263\n",
       "</pre>\n"
      ],
      "text/plain": [
       "23:21:21.720 | \u001b[36mINFO\u001b[0m    | Task run 'Train best model and test it-0' - [1]        validation-rmse:13.77263\n"
      ]
     },
     "metadata": {},
     "output_type": "display_data"
    },
    {
     "data": {
      "text/html": [
       "<pre style=\"white-space:pre;overflow-x:auto;line-height:normal;font-family:Menlo,'DejaVu Sans Mono',consolas,'Courier New',monospace\">23:21:21.814 | <span style=\"color: #008080; text-decoration-color: #008080\">INFO</span>    | Task run 'Train best model and test it-0' - [2]        validation-rmse:12.66813\n",
       "</pre>\n"
      ],
      "text/plain": [
       "23:21:21.814 | \u001b[36mINFO\u001b[0m    | Task run 'Train best model and test it-0' - [2]        validation-rmse:12.66813\n"
      ]
     },
     "metadata": {},
     "output_type": "display_data"
    },
    {
     "data": {
      "text/html": [
       "<pre style=\"white-space:pre;overflow-x:auto;line-height:normal;font-family:Menlo,'DejaVu Sans Mono',consolas,'Courier New',monospace\">23:21:21.903 | <span style=\"color: #008080; text-decoration-color: #008080\">INFO</span>    | Task run 'Train best model and test it-0' - [3]        validation-rmse:11.69334\n",
       "</pre>\n"
      ],
      "text/plain": [
       "23:21:21.903 | \u001b[36mINFO\u001b[0m    | Task run 'Train best model and test it-0' - [3]        validation-rmse:11.69334\n"
      ]
     },
     "metadata": {},
     "output_type": "display_data"
    },
    {
     "data": {
      "text/html": [
       "<pre style=\"white-space:pre;overflow-x:auto;line-height:normal;font-family:Menlo,'DejaVu Sans Mono',consolas,'Courier New',monospace\">23:21:21.992 | <span style=\"color: #008080; text-decoration-color: #008080\">INFO</span>    | Task run 'Train best model and test it-0' - [4]        validation-rmse:10.82939\n",
       "</pre>\n"
      ],
      "text/plain": [
       "23:21:21.992 | \u001b[36mINFO\u001b[0m    | Task run 'Train best model and test it-0' - [4]        validation-rmse:10.82939\n"
      ]
     },
     "metadata": {},
     "output_type": "display_data"
    },
    {
     "data": {
      "text/html": [
       "<pre style=\"white-space:pre;overflow-x:auto;line-height:normal;font-family:Menlo,'DejaVu Sans Mono',consolas,'Courier New',monospace\">23:21:22.088 | <span style=\"color: #008080; text-decoration-color: #008080\">INFO</span>    | Task run 'Train best model and test it-0' - [5]        validation-rmse:10.07413\n",
       "</pre>\n"
      ],
      "text/plain": [
       "23:21:22.088 | \u001b[36mINFO\u001b[0m    | Task run 'Train best model and test it-0' - [5]        validation-rmse:10.07413\n"
      ]
     },
     "metadata": {},
     "output_type": "display_data"
    },
    {
     "data": {
      "text/html": [
       "<pre style=\"white-space:pre;overflow-x:auto;line-height:normal;font-family:Menlo,'DejaVu Sans Mono',consolas,'Courier New',monospace\">23:21:22.177 | <span style=\"color: #008080; text-decoration-color: #008080\">INFO</span>    | Task run 'Train best model and test it-0' - [6]        validation-rmse:9.40894\n",
       "</pre>\n"
      ],
      "text/plain": [
       "23:21:22.177 | \u001b[36mINFO\u001b[0m    | Task run 'Train best model and test it-0' - [6]        validation-rmse:9.40894\n"
      ]
     },
     "metadata": {},
     "output_type": "display_data"
    },
    {
     "data": {
      "text/html": [
       "<pre style=\"white-space:pre;overflow-x:auto;line-height:normal;font-family:Menlo,'DejaVu Sans Mono',consolas,'Courier New',monospace\">23:21:22.273 | <span style=\"color: #008080; text-decoration-color: #008080\">INFO</span>    | Task run 'Train best model and test it-0' - [7]        validation-rmse:8.83300\n",
       "</pre>\n"
      ],
      "text/plain": [
       "23:21:22.273 | \u001b[36mINFO\u001b[0m    | Task run 'Train best model and test it-0' - [7]        validation-rmse:8.83300\n"
      ]
     },
     "metadata": {},
     "output_type": "display_data"
    },
    {
     "data": {
      "text/html": [
       "<pre style=\"white-space:pre;overflow-x:auto;line-height:normal;font-family:Menlo,'DejaVu Sans Mono',consolas,'Courier New',monospace\">23:21:22.361 | <span style=\"color: #008080; text-decoration-color: #008080\">INFO</span>    | Task run 'Train best model and test it-0' - [8]        validation-rmse:8.33036\n",
       "</pre>\n"
      ],
      "text/plain": [
       "23:21:22.361 | \u001b[36mINFO\u001b[0m    | Task run 'Train best model and test it-0' - [8]        validation-rmse:8.33036\n"
      ]
     },
     "metadata": {},
     "output_type": "display_data"
    },
    {
     "data": {
      "text/html": [
       "<pre style=\"white-space:pre;overflow-x:auto;line-height:normal;font-family:Menlo,'DejaVu Sans Mono',consolas,'Courier New',monospace\">23:21:22.447 | <span style=\"color: #008080; text-decoration-color: #008080\">INFO</span>    | Task run 'Train best model and test it-0' - [9]        validation-rmse:7.90135\n",
       "</pre>\n"
      ],
      "text/plain": [
       "23:21:22.447 | \u001b[36mINFO\u001b[0m    | Task run 'Train best model and test it-0' - [9]        validation-rmse:7.90135\n"
      ]
     },
     "metadata": {},
     "output_type": "display_data"
    },
    {
     "data": {
      "text/html": [
       "<pre style=\"white-space:pre;overflow-x:auto;line-height:normal;font-family:Menlo,'DejaVu Sans Mono',consolas,'Courier New',monospace\">23:21:22.527 | <span style=\"color: #008080; text-decoration-color: #008080\">INFO</span>    | Task run 'Train best model and test it-0' - [10]       validation-rmse:7.53347\n",
       "</pre>\n"
      ],
      "text/plain": [
       "23:21:22.527 | \u001b[36mINFO\u001b[0m    | Task run 'Train best model and test it-0' - [10]       validation-rmse:7.53347\n"
      ]
     },
     "metadata": {},
     "output_type": "display_data"
    },
    {
     "data": {
      "text/html": [
       "<pre style=\"white-space:pre;overflow-x:auto;line-height:normal;font-family:Menlo,'DejaVu Sans Mono',consolas,'Courier New',monospace\">23:21:22.609 | <span style=\"color: #008080; text-decoration-color: #008080\">INFO</span>    | Task run 'Train best model and test it-0' - [11]       validation-rmse:7.21431\n",
       "</pre>\n"
      ],
      "text/plain": [
       "23:21:22.609 | \u001b[36mINFO\u001b[0m    | Task run 'Train best model and test it-0' - [11]       validation-rmse:7.21431\n"
      ]
     },
     "metadata": {},
     "output_type": "display_data"
    },
    {
     "data": {
      "text/html": [
       "<pre style=\"white-space:pre;overflow-x:auto;line-height:normal;font-family:Menlo,'DejaVu Sans Mono',consolas,'Courier New',monospace\">23:21:22.696 | <span style=\"color: #008080; text-decoration-color: #008080\">INFO</span>    | Task run 'Train best model and test it-0' - [12]       validation-rmse:6.95144\n",
       "</pre>\n"
      ],
      "text/plain": [
       "23:21:22.696 | \u001b[36mINFO\u001b[0m    | Task run 'Train best model and test it-0' - [12]       validation-rmse:6.95144\n"
      ]
     },
     "metadata": {},
     "output_type": "display_data"
    },
    {
     "data": {
      "text/html": [
       "<pre style=\"white-space:pre;overflow-x:auto;line-height:normal;font-family:Menlo,'DejaVu Sans Mono',consolas,'Courier New',monospace\">23:21:22.775 | <span style=\"color: #008080; text-decoration-color: #008080\">INFO</span>    | Task run 'Train best model and test it-0' - [13]       validation-rmse:6.72664\n",
       "</pre>\n"
      ],
      "text/plain": [
       "23:21:22.775 | \u001b[36mINFO\u001b[0m    | Task run 'Train best model and test it-0' - [13]       validation-rmse:6.72664\n"
      ]
     },
     "metadata": {},
     "output_type": "display_data"
    },
    {
     "data": {
      "text/html": [
       "<pre style=\"white-space:pre;overflow-x:auto;line-height:normal;font-family:Menlo,'DejaVu Sans Mono',consolas,'Courier New',monospace\">23:21:22.872 | <span style=\"color: #008080; text-decoration-color: #008080\">INFO</span>    | Task run 'Train best model and test it-0' - [14]       validation-rmse:6.54048\n",
       "</pre>\n"
      ],
      "text/plain": [
       "23:21:22.872 | \u001b[36mINFO\u001b[0m    | Task run 'Train best model and test it-0' - [14]       validation-rmse:6.54048\n"
      ]
     },
     "metadata": {},
     "output_type": "display_data"
    },
    {
     "data": {
      "text/html": [
       "<pre style=\"white-space:pre;overflow-x:auto;line-height:normal;font-family:Menlo,'DejaVu Sans Mono',consolas,'Courier New',monospace\">23:21:22.944 | <span style=\"color: #008080; text-decoration-color: #008080\">INFO</span>    | Task run 'Train best model and test it-0' - [15]       validation-rmse:6.38559\n",
       "</pre>\n"
      ],
      "text/plain": [
       "23:21:22.944 | \u001b[36mINFO\u001b[0m    | Task run 'Train best model and test it-0' - [15]       validation-rmse:6.38559\n"
      ]
     },
     "metadata": {},
     "output_type": "display_data"
    },
    {
     "data": {
      "text/html": [
       "<pre style=\"white-space:pre;overflow-x:auto;line-height:normal;font-family:Menlo,'DejaVu Sans Mono',consolas,'Courier New',monospace\">23:21:23.024 | <span style=\"color: #008080; text-decoration-color: #008080\">INFO</span>    | Task run 'Train best model and test it-0' - [16]       validation-rmse:6.25363\n",
       "</pre>\n"
      ],
      "text/plain": [
       "23:21:23.024 | \u001b[36mINFO\u001b[0m    | Task run 'Train best model and test it-0' - [16]       validation-rmse:6.25363\n"
      ]
     },
     "metadata": {},
     "output_type": "display_data"
    },
    {
     "data": {
      "text/html": [
       "<pre style=\"white-space:pre;overflow-x:auto;line-height:normal;font-family:Menlo,'DejaVu Sans Mono',consolas,'Courier New',monospace\">23:21:23.096 | <span style=\"color: #008080; text-decoration-color: #008080\">INFO</span>    | Task run 'Train best model and test it-0' - [17]       validation-rmse:6.14732\n",
       "</pre>\n"
      ],
      "text/plain": [
       "23:21:23.096 | \u001b[36mINFO\u001b[0m    | Task run 'Train best model and test it-0' - [17]       validation-rmse:6.14732\n"
      ]
     },
     "metadata": {},
     "output_type": "display_data"
    },
    {
     "data": {
      "text/html": [
       "<pre style=\"white-space:pre;overflow-x:auto;line-height:normal;font-family:Menlo,'DejaVu Sans Mono',consolas,'Courier New',monospace\">23:21:23.160 | <span style=\"color: #008080; text-decoration-color: #008080\">INFO</span>    | Task run 'Train best model and test it-0' - [18]       validation-rmse:6.05974\n",
       "</pre>\n"
      ],
      "text/plain": [
       "23:21:23.160 | \u001b[36mINFO\u001b[0m    | Task run 'Train best model and test it-0' - [18]       validation-rmse:6.05974\n"
      ]
     },
     "metadata": {},
     "output_type": "display_data"
    },
    {
     "data": {
      "text/html": [
       "<pre style=\"white-space:pre;overflow-x:auto;line-height:normal;font-family:Menlo,'DejaVu Sans Mono',consolas,'Courier New',monospace\">23:21:23.232 | <span style=\"color: #008080; text-decoration-color: #008080\">INFO</span>    | Task run 'Train best model and test it-0' - [19]       validation-rmse:5.98697\n",
       "</pre>\n"
      ],
      "text/plain": [
       "23:21:23.232 | \u001b[36mINFO\u001b[0m    | Task run 'Train best model and test it-0' - [19]       validation-rmse:5.98697\n"
      ]
     },
     "metadata": {},
     "output_type": "display_data"
    },
    {
     "data": {
      "text/html": [
       "<pre style=\"white-space:pre;overflow-x:auto;line-height:normal;font-family:Menlo,'DejaVu Sans Mono',consolas,'Courier New',monospace\">23:21:23.304 | <span style=\"color: #008080; text-decoration-color: #008080\">INFO</span>    | Task run 'Train best model and test it-0' - [20]       validation-rmse:5.92639\n",
       "</pre>\n"
      ],
      "text/plain": [
       "23:21:23.304 | \u001b[36mINFO\u001b[0m    | Task run 'Train best model and test it-0' - [20]       validation-rmse:5.92639\n"
      ]
     },
     "metadata": {},
     "output_type": "display_data"
    },
    {
     "data": {
      "text/html": [
       "<pre style=\"white-space:pre;overflow-x:auto;line-height:normal;font-family:Menlo,'DejaVu Sans Mono',consolas,'Courier New',monospace\">23:21:23.368 | <span style=\"color: #008080; text-decoration-color: #008080\">INFO</span>    | Task run 'Train best model and test it-0' - [21]       validation-rmse:5.87859\n",
       "</pre>\n"
      ],
      "text/plain": [
       "23:21:23.368 | \u001b[36mINFO\u001b[0m    | Task run 'Train best model and test it-0' - [21]       validation-rmse:5.87859\n"
      ]
     },
     "metadata": {},
     "output_type": "display_data"
    },
    {
     "data": {
      "text/html": [
       "<pre style=\"white-space:pre;overflow-x:auto;line-height:normal;font-family:Menlo,'DejaVu Sans Mono',consolas,'Courier New',monospace\">23:21:23.432 | <span style=\"color: #008080; text-decoration-color: #008080\">INFO</span>    | Task run 'Train best model and test it-0' - [22]       validation-rmse:5.83823\n",
       "</pre>\n"
      ],
      "text/plain": [
       "23:21:23.432 | \u001b[36mINFO\u001b[0m    | Task run 'Train best model and test it-0' - [22]       validation-rmse:5.83823\n"
      ]
     },
     "metadata": {},
     "output_type": "display_data"
    },
    {
     "data": {
      "text/html": [
       "<pre style=\"white-space:pre;overflow-x:auto;line-height:normal;font-family:Menlo,'DejaVu Sans Mono',consolas,'Courier New',monospace\">23:21:23.500 | <span style=\"color: #008080; text-decoration-color: #008080\">INFO</span>    | Task run 'Train best model and test it-0' - [23]       validation-rmse:5.80623\n",
       "</pre>\n"
      ],
      "text/plain": [
       "23:21:23.500 | \u001b[36mINFO\u001b[0m    | Task run 'Train best model and test it-0' - [23]       validation-rmse:5.80623\n"
      ]
     },
     "metadata": {},
     "output_type": "display_data"
    },
    {
     "data": {
      "text/html": [
       "<pre style=\"white-space:pre;overflow-x:auto;line-height:normal;font-family:Menlo,'DejaVu Sans Mono',consolas,'Courier New',monospace\">23:21:23.569 | <span style=\"color: #008080; text-decoration-color: #008080\">INFO</span>    | Task run 'Train best model and test it-0' - [24]       validation-rmse:5.78047\n",
       "</pre>\n"
      ],
      "text/plain": [
       "23:21:23.569 | \u001b[36mINFO\u001b[0m    | Task run 'Train best model and test it-0' - [24]       validation-rmse:5.78047\n"
      ]
     },
     "metadata": {},
     "output_type": "display_data"
    },
    {
     "data": {
      "text/html": [
       "<pre style=\"white-space:pre;overflow-x:auto;line-height:normal;font-family:Menlo,'DejaVu Sans Mono',consolas,'Courier New',monospace\">23:21:23.625 | <span style=\"color: #008080; text-decoration-color: #008080\">INFO</span>    | Task run 'Train best model and test it-0' - [25]       validation-rmse:5.75905\n",
       "</pre>\n"
      ],
      "text/plain": [
       "23:21:23.625 | \u001b[36mINFO\u001b[0m    | Task run 'Train best model and test it-0' - [25]       validation-rmse:5.75905\n"
      ]
     },
     "metadata": {},
     "output_type": "display_data"
    },
    {
     "data": {
      "text/html": [
       "<pre style=\"white-space:pre;overflow-x:auto;line-height:normal;font-family:Menlo,'DejaVu Sans Mono',consolas,'Courier New',monospace\">23:21:23.681 | <span style=\"color: #008080; text-decoration-color: #008080\">INFO</span>    | Task run 'Train best model and test it-0' - [26]       validation-rmse:5.74247\n",
       "</pre>\n"
      ],
      "text/plain": [
       "23:21:23.681 | \u001b[36mINFO\u001b[0m    | Task run 'Train best model and test it-0' - [26]       validation-rmse:5.74247\n"
      ]
     },
     "metadata": {},
     "output_type": "display_data"
    },
    {
     "data": {
      "text/html": [
       "<pre style=\"white-space:pre;overflow-x:auto;line-height:normal;font-family:Menlo,'DejaVu Sans Mono',consolas,'Courier New',monospace\">23:21:23.745 | <span style=\"color: #008080; text-decoration-color: #008080\">INFO</span>    | Task run 'Train best model and test it-0' - [27]       validation-rmse:5.72830\n",
       "</pre>\n"
      ],
      "text/plain": [
       "23:21:23.745 | \u001b[36mINFO\u001b[0m    | Task run 'Train best model and test it-0' - [27]       validation-rmse:5.72830\n"
      ]
     },
     "metadata": {},
     "output_type": "display_data"
    },
    {
     "data": {
      "text/html": [
       "<pre style=\"white-space:pre;overflow-x:auto;line-height:normal;font-family:Menlo,'DejaVu Sans Mono',consolas,'Courier New',monospace\">23:21:23.810 | <span style=\"color: #008080; text-decoration-color: #008080\">INFO</span>    | Task run 'Train best model and test it-0' - [28]       validation-rmse:5.71762\n",
       "</pre>\n"
      ],
      "text/plain": [
       "23:21:23.810 | \u001b[36mINFO\u001b[0m    | Task run 'Train best model and test it-0' - [28]       validation-rmse:5.71762\n"
      ]
     },
     "metadata": {},
     "output_type": "display_data"
    },
    {
     "data": {
      "text/html": [
       "<pre style=\"white-space:pre;overflow-x:auto;line-height:normal;font-family:Menlo,'DejaVu Sans Mono',consolas,'Courier New',monospace\">23:21:23.866 | <span style=\"color: #008080; text-decoration-color: #008080\">INFO</span>    | Task run 'Train best model and test it-0' - [29]       validation-rmse:5.70912\n",
       "</pre>\n"
      ],
      "text/plain": [
       "23:21:23.866 | \u001b[36mINFO\u001b[0m    | Task run 'Train best model and test it-0' - [29]       validation-rmse:5.70912\n"
      ]
     },
     "metadata": {},
     "output_type": "display_data"
    },
    {
     "data": {
      "text/html": [
       "<pre style=\"white-space:pre;overflow-x:auto;line-height:normal;font-family:Menlo,'DejaVu Sans Mono',consolas,'Courier New',monospace\">23:21:23.932 | <span style=\"color: #008080; text-decoration-color: #008080\">INFO</span>    | Task run 'Train best model and test it-0' - [30]       validation-rmse:5.70195\n",
       "</pre>\n"
      ],
      "text/plain": [
       "23:21:23.932 | \u001b[36mINFO\u001b[0m    | Task run 'Train best model and test it-0' - [30]       validation-rmse:5.70195\n"
      ]
     },
     "metadata": {},
     "output_type": "display_data"
    },
    {
     "data": {
      "text/html": [
       "<pre style=\"white-space:pre;overflow-x:auto;line-height:normal;font-family:Menlo,'DejaVu Sans Mono',consolas,'Courier New',monospace\">23:21:23.996 | <span style=\"color: #008080; text-decoration-color: #008080\">INFO</span>    | Task run 'Train best model and test it-0' - [31]       validation-rmse:5.69662\n",
       "</pre>\n"
      ],
      "text/plain": [
       "23:21:23.996 | \u001b[36mINFO\u001b[0m    | Task run 'Train best model and test it-0' - [31]       validation-rmse:5.69662\n"
      ]
     },
     "metadata": {},
     "output_type": "display_data"
    },
    {
     "data": {
      "text/html": [
       "<pre style=\"white-space:pre;overflow-x:auto;line-height:normal;font-family:Menlo,'DejaVu Sans Mono',consolas,'Courier New',monospace\">23:21:24.060 | <span style=\"color: #008080; text-decoration-color: #008080\">INFO</span>    | Task run 'Train best model and test it-0' - [32]       validation-rmse:5.69207\n",
       "</pre>\n"
      ],
      "text/plain": [
       "23:21:24.060 | \u001b[36mINFO\u001b[0m    | Task run 'Train best model and test it-0' - [32]       validation-rmse:5.69207\n"
      ]
     },
     "metadata": {},
     "output_type": "display_data"
    },
    {
     "data": {
      "text/html": [
       "<pre style=\"white-space:pre;overflow-x:auto;line-height:normal;font-family:Menlo,'DejaVu Sans Mono',consolas,'Courier New',monospace\">23:21:24.116 | <span style=\"color: #008080; text-decoration-color: #008080\">INFO</span>    | Task run 'Train best model and test it-0' - [33]       validation-rmse:5.68874\n",
       "</pre>\n"
      ],
      "text/plain": [
       "23:21:24.116 | \u001b[36mINFO\u001b[0m    | Task run 'Train best model and test it-0' - [33]       validation-rmse:5.68874\n"
      ]
     },
     "metadata": {},
     "output_type": "display_data"
    },
    {
     "data": {
      "text/html": [
       "<pre style=\"white-space:pre;overflow-x:auto;line-height:normal;font-family:Menlo,'DejaVu Sans Mono',consolas,'Courier New',monospace\">23:21:24.164 | <span style=\"color: #008080; text-decoration-color: #008080\">INFO</span>    | Task run 'Train best model and test it-0' - [34]       validation-rmse:5.68564\n",
       "</pre>\n"
      ],
      "text/plain": [
       "23:21:24.164 | \u001b[36mINFO\u001b[0m    | Task run 'Train best model and test it-0' - [34]       validation-rmse:5.68564\n"
      ]
     },
     "metadata": {},
     "output_type": "display_data"
    },
    {
     "data": {
      "text/html": [
       "<pre style=\"white-space:pre;overflow-x:auto;line-height:normal;font-family:Menlo,'DejaVu Sans Mono',consolas,'Courier New',monospace\">23:21:24.210 | <span style=\"color: #008080; text-decoration-color: #008080\">INFO</span>    | Task run 'Train best model and test it-0' - [35]       validation-rmse:5.68320\n",
       "</pre>\n"
      ],
      "text/plain": [
       "23:21:24.210 | \u001b[36mINFO\u001b[0m    | Task run 'Train best model and test it-0' - [35]       validation-rmse:5.68320\n"
      ]
     },
     "metadata": {},
     "output_type": "display_data"
    },
    {
     "data": {
      "text/html": [
       "<pre style=\"white-space:pre;overflow-x:auto;line-height:normal;font-family:Menlo,'DejaVu Sans Mono',consolas,'Courier New',monospace\">23:21:24.257 | <span style=\"color: #008080; text-decoration-color: #008080\">INFO</span>    | Task run 'Train best model and test it-0' - [36]       validation-rmse:5.68130\n",
       "</pre>\n"
      ],
      "text/plain": [
       "23:21:24.257 | \u001b[36mINFO\u001b[0m    | Task run 'Train best model and test it-0' - [36]       validation-rmse:5.68130\n"
      ]
     },
     "metadata": {},
     "output_type": "display_data"
    },
    {
     "data": {
      "text/html": [
       "<pre style=\"white-space:pre;overflow-x:auto;line-height:normal;font-family:Menlo,'DejaVu Sans Mono',consolas,'Courier New',monospace\">23:21:24.304 | <span style=\"color: #008080; text-decoration-color: #008080\">INFO</span>    | Task run 'Train best model and test it-0' - [37]       validation-rmse:5.67983\n",
       "</pre>\n"
      ],
      "text/plain": [
       "23:21:24.304 | \u001b[36mINFO\u001b[0m    | Task run 'Train best model and test it-0' - [37]       validation-rmse:5.67983\n"
      ]
     },
     "metadata": {},
     "output_type": "display_data"
    },
    {
     "data": {
      "text/html": [
       "<pre style=\"white-space:pre;overflow-x:auto;line-height:normal;font-family:Menlo,'DejaVu Sans Mono',consolas,'Courier New',monospace\">23:21:24.349 | <span style=\"color: #008080; text-decoration-color: #008080\">INFO</span>    | Task run 'Train best model and test it-0' - [38]       validation-rmse:5.67872\n",
       "</pre>\n"
      ],
      "text/plain": [
       "23:21:24.349 | \u001b[36mINFO\u001b[0m    | Task run 'Train best model and test it-0' - [38]       validation-rmse:5.67872\n"
      ]
     },
     "metadata": {},
     "output_type": "display_data"
    },
    {
     "data": {
      "text/html": [
       "<pre style=\"white-space:pre;overflow-x:auto;line-height:normal;font-family:Menlo,'DejaVu Sans Mono',consolas,'Courier New',monospace\">23:21:24.397 | <span style=\"color: #008080; text-decoration-color: #008080\">INFO</span>    | Task run 'Train best model and test it-0' - [39]       validation-rmse:5.67775\n",
       "</pre>\n"
      ],
      "text/plain": [
       "23:21:24.397 | \u001b[36mINFO\u001b[0m    | Task run 'Train best model and test it-0' - [39]       validation-rmse:5.67775\n"
      ]
     },
     "metadata": {},
     "output_type": "display_data"
    },
    {
     "data": {
      "text/html": [
       "<pre style=\"white-space:pre;overflow-x:auto;line-height:normal;font-family:Menlo,'DejaVu Sans Mono',consolas,'Courier New',monospace\">23:21:24.437 | <span style=\"color: #008080; text-decoration-color: #008080\">INFO</span>    | Task run 'Train best model and test it-0' - [40]       validation-rmse:5.67715\n",
       "</pre>\n"
      ],
      "text/plain": [
       "23:21:24.437 | \u001b[36mINFO\u001b[0m    | Task run 'Train best model and test it-0' - [40]       validation-rmse:5.67715\n"
      ]
     },
     "metadata": {},
     "output_type": "display_data"
    },
    {
     "data": {
      "text/html": [
       "<pre style=\"white-space:pre;overflow-x:auto;line-height:normal;font-family:Menlo,'DejaVu Sans Mono',consolas,'Courier New',monospace\">23:21:24.485 | <span style=\"color: #008080; text-decoration-color: #008080\">INFO</span>    | Task run 'Train best model and test it-0' - [41]       validation-rmse:5.67673\n",
       "</pre>\n"
      ],
      "text/plain": [
       "23:21:24.485 | \u001b[36mINFO\u001b[0m    | Task run 'Train best model and test it-0' - [41]       validation-rmse:5.67673\n"
      ]
     },
     "metadata": {},
     "output_type": "display_data"
    },
    {
     "data": {
      "text/html": [
       "<pre style=\"white-space:pre;overflow-x:auto;line-height:normal;font-family:Menlo,'DejaVu Sans Mono',consolas,'Courier New',monospace\">23:21:24.525 | <span style=\"color: #008080; text-decoration-color: #008080\">INFO</span>    | Task run 'Train best model and test it-0' - [42]       validation-rmse:5.67646\n",
       "</pre>\n"
      ],
      "text/plain": [
       "23:21:24.525 | \u001b[36mINFO\u001b[0m    | Task run 'Train best model and test it-0' - [42]       validation-rmse:5.67646\n"
      ]
     },
     "metadata": {},
     "output_type": "display_data"
    },
    {
     "data": {
      "text/html": [
       "<pre style=\"white-space:pre;overflow-x:auto;line-height:normal;font-family:Menlo,'DejaVu Sans Mono',consolas,'Courier New',monospace\">23:21:24.575 | <span style=\"color: #008080; text-decoration-color: #008080\">INFO</span>    | Task run 'Train best model and test it-0' - [43]       validation-rmse:5.67615\n",
       "</pre>\n"
      ],
      "text/plain": [
       "23:21:24.575 | \u001b[36mINFO\u001b[0m    | Task run 'Train best model and test it-0' - [43]       validation-rmse:5.67615\n"
      ]
     },
     "metadata": {},
     "output_type": "display_data"
    },
    {
     "data": {
      "text/html": [
       "<pre style=\"white-space:pre;overflow-x:auto;line-height:normal;font-family:Menlo,'DejaVu Sans Mono',consolas,'Courier New',monospace\">23:21:24.620 | <span style=\"color: #008080; text-decoration-color: #008080\">INFO</span>    | Task run 'Train best model and test it-0' - [44]       validation-rmse:5.67595\n",
       "</pre>\n"
      ],
      "text/plain": [
       "23:21:24.620 | \u001b[36mINFO\u001b[0m    | Task run 'Train best model and test it-0' - [44]       validation-rmse:5.67595\n"
      ]
     },
     "metadata": {},
     "output_type": "display_data"
    },
    {
     "data": {
      "text/html": [
       "<pre style=\"white-space:pre;overflow-x:auto;line-height:normal;font-family:Menlo,'DejaVu Sans Mono',consolas,'Courier New',monospace\">23:21:24.664 | <span style=\"color: #008080; text-decoration-color: #008080\">INFO</span>    | Task run 'Train best model and test it-0' - [45]       validation-rmse:5.67574\n",
       "</pre>\n"
      ],
      "text/plain": [
       "23:21:24.664 | \u001b[36mINFO\u001b[0m    | Task run 'Train best model and test it-0' - [45]       validation-rmse:5.67574\n"
      ]
     },
     "metadata": {},
     "output_type": "display_data"
    },
    {
     "data": {
      "text/html": [
       "<pre style=\"white-space:pre;overflow-x:auto;line-height:normal;font-family:Menlo,'DejaVu Sans Mono',consolas,'Courier New',monospace\">23:21:24.702 | <span style=\"color: #008080; text-decoration-color: #008080\">INFO</span>    | Task run 'Train best model and test it-0' - [46]       validation-rmse:5.67562\n",
       "</pre>\n"
      ],
      "text/plain": [
       "23:21:24.702 | \u001b[36mINFO\u001b[0m    | Task run 'Train best model and test it-0' - [46]       validation-rmse:5.67562\n"
      ]
     },
     "metadata": {},
     "output_type": "display_data"
    },
    {
     "data": {
      "text/html": [
       "<pre style=\"white-space:pre;overflow-x:auto;line-height:normal;font-family:Menlo,'DejaVu Sans Mono',consolas,'Courier New',monospace\">23:21:24.742 | <span style=\"color: #008080; text-decoration-color: #008080\">INFO</span>    | Task run 'Train best model and test it-0' - [47]       validation-rmse:5.67560\n",
       "</pre>\n"
      ],
      "text/plain": [
       "23:21:24.742 | \u001b[36mINFO\u001b[0m    | Task run 'Train best model and test it-0' - [47]       validation-rmse:5.67560\n"
      ]
     },
     "metadata": {},
     "output_type": "display_data"
    },
    {
     "data": {
      "text/html": [
       "<pre style=\"white-space:pre;overflow-x:auto;line-height:normal;font-family:Menlo,'DejaVu Sans Mono',consolas,'Courier New',monospace\">23:21:24.790 | <span style=\"color: #008080; text-decoration-color: #008080\">INFO</span>    | Task run 'Train best model and test it-0' - [48]       validation-rmse:5.67555\n",
       "</pre>\n"
      ],
      "text/plain": [
       "23:21:24.790 | \u001b[36mINFO\u001b[0m    | Task run 'Train best model and test it-0' - [48]       validation-rmse:5.67555\n"
      ]
     },
     "metadata": {},
     "output_type": "display_data"
    },
    {
     "data": {
      "text/html": [
       "<pre style=\"white-space:pre;overflow-x:auto;line-height:normal;font-family:Menlo,'DejaVu Sans Mono',consolas,'Courier New',monospace\">23:21:24.839 | <span style=\"color: #008080; text-decoration-color: #008080\">INFO</span>    | Task run 'Train best model and test it-0' - [49]       validation-rmse:5.67551\n",
       "</pre>\n"
      ],
      "text/plain": [
       "23:21:24.839 | \u001b[36mINFO\u001b[0m    | Task run 'Train best model and test it-0' - [49]       validation-rmse:5.67551\n"
      ]
     },
     "metadata": {},
     "output_type": "display_data"
    },
    {
     "data": {
      "text/html": [
       "<pre style=\"white-space:pre;overflow-x:auto;line-height:normal;font-family:Menlo,'DejaVu Sans Mono',consolas,'Courier New',monospace\">23:21:24.887 | <span style=\"color: #008080; text-decoration-color: #008080\">INFO</span>    | Task run 'Train best model and test it-0' - [50]       validation-rmse:5.67568\n",
       "</pre>\n"
      ],
      "text/plain": [
       "23:21:24.887 | \u001b[36mINFO\u001b[0m    | Task run 'Train best model and test it-0' - [50]       validation-rmse:5.67568\n"
      ]
     },
     "metadata": {},
     "output_type": "display_data"
    },
    {
     "data": {
      "text/html": [
       "<pre style=\"white-space:pre;overflow-x:auto;line-height:normal;font-family:Menlo,'DejaVu Sans Mono',consolas,'Courier New',monospace\">23:21:24.935 | <span style=\"color: #008080; text-decoration-color: #008080\">INFO</span>    | Task run 'Train best model and test it-0' - [51]       validation-rmse:5.67571\n",
       "</pre>\n"
      ],
      "text/plain": [
       "23:21:24.935 | \u001b[36mINFO\u001b[0m    | Task run 'Train best model and test it-0' - [51]       validation-rmse:5.67571\n"
      ]
     },
     "metadata": {},
     "output_type": "display_data"
    },
    {
     "data": {
      "text/html": [
       "<pre style=\"white-space:pre;overflow-x:auto;line-height:normal;font-family:Menlo,'DejaVu Sans Mono',consolas,'Courier New',monospace\">23:21:24.975 | <span style=\"color: #008080; text-decoration-color: #008080\">INFO</span>    | Task run 'Train best model and test it-0' - [52]       validation-rmse:5.67574\n",
       "</pre>\n"
      ],
      "text/plain": [
       "23:21:24.975 | \u001b[36mINFO\u001b[0m    | Task run 'Train best model and test it-0' - [52]       validation-rmse:5.67574\n"
      ]
     },
     "metadata": {},
     "output_type": "display_data"
    },
    {
     "data": {
      "text/html": [
       "<pre style=\"white-space:pre;overflow-x:auto;line-height:normal;font-family:Menlo,'DejaVu Sans Mono',consolas,'Courier New',monospace\">23:21:25.023 | <span style=\"color: #008080; text-decoration-color: #008080\">INFO</span>    | Task run 'Train best model and test it-0' - [53]       validation-rmse:5.67575\n",
       "</pre>\n"
      ],
      "text/plain": [
       "23:21:25.023 | \u001b[36mINFO\u001b[0m    | Task run 'Train best model and test it-0' - [53]       validation-rmse:5.67575\n"
      ]
     },
     "metadata": {},
     "output_type": "display_data"
    },
    {
     "data": {
      "text/html": [
       "<pre style=\"white-space:pre;overflow-x:auto;line-height:normal;font-family:Menlo,'DejaVu Sans Mono',consolas,'Courier New',monospace\">23:21:25.063 | <span style=\"color: #008080; text-decoration-color: #008080\">INFO</span>    | Task run 'Train best model and test it-0' - [54]       validation-rmse:5.67578\n",
       "</pre>\n"
      ],
      "text/plain": [
       "23:21:25.063 | \u001b[36mINFO\u001b[0m    | Task run 'Train best model and test it-0' - [54]       validation-rmse:5.67578\n"
      ]
     },
     "metadata": {},
     "output_type": "display_data"
    },
    {
     "data": {
      "text/html": [
       "<pre style=\"white-space:pre;overflow-x:auto;line-height:normal;font-family:Menlo,'DejaVu Sans Mono',consolas,'Courier New',monospace\">23:21:25.111 | <span style=\"color: #008080; text-decoration-color: #008080\">INFO</span>    | Task run 'Train best model and test it-0' - [55]       validation-rmse:5.67582\n",
       "</pre>\n"
      ],
      "text/plain": [
       "23:21:25.111 | \u001b[36mINFO\u001b[0m    | Task run 'Train best model and test it-0' - [55]       validation-rmse:5.67582\n"
      ]
     },
     "metadata": {},
     "output_type": "display_data"
    },
    {
     "data": {
      "text/html": [
       "<pre style=\"white-space:pre;overflow-x:auto;line-height:normal;font-family:Menlo,'DejaVu Sans Mono',consolas,'Courier New',monospace\">23:21:25.152 | <span style=\"color: #008080; text-decoration-color: #008080\">INFO</span>    | Task run 'Train best model and test it-0' - [56]       validation-rmse:5.67591\n",
       "</pre>\n"
      ],
      "text/plain": [
       "23:21:25.152 | \u001b[36mINFO\u001b[0m    | Task run 'Train best model and test it-0' - [56]       validation-rmse:5.67591\n"
      ]
     },
     "metadata": {},
     "output_type": "display_data"
    },
    {
     "data": {
      "text/html": [
       "<pre style=\"white-space:pre;overflow-x:auto;line-height:normal;font-family:Menlo,'DejaVu Sans Mono',consolas,'Courier New',monospace\">23:21:25.208 | <span style=\"color: #008080; text-decoration-color: #008080\">INFO</span>    | Task run 'Train best model and test it-0' - [57]       validation-rmse:5.67594\n",
       "</pre>\n"
      ],
      "text/plain": [
       "23:21:25.208 | \u001b[36mINFO\u001b[0m    | Task run 'Train best model and test it-0' - [57]       validation-rmse:5.67594\n"
      ]
     },
     "metadata": {},
     "output_type": "display_data"
    },
    {
     "data": {
      "text/html": [
       "<pre style=\"white-space:pre;overflow-x:auto;line-height:normal;font-family:Menlo,'DejaVu Sans Mono',consolas,'Courier New',monospace\">23:21:25.248 | <span style=\"color: #008080; text-decoration-color: #008080\">INFO</span>    | Task run 'Train best model and test it-0' - [58]       validation-rmse:5.67598\n",
       "</pre>\n"
      ],
      "text/plain": [
       "23:21:25.248 | \u001b[36mINFO\u001b[0m    | Task run 'Train best model and test it-0' - [58]       validation-rmse:5.67598\n"
      ]
     },
     "metadata": {},
     "output_type": "display_data"
    },
    {
     "data": {
      "text/html": [
       "<pre style=\"white-space:pre;overflow-x:auto;line-height:normal;font-family:Menlo,'DejaVu Sans Mono',consolas,'Courier New',monospace\">23:21:25.301 | <span style=\"color: #008080; text-decoration-color: #008080\">INFO</span>    | Task run 'Train best model and test it-0' - [59]       validation-rmse:5.67601\n",
       "</pre>\n"
      ],
      "text/plain": [
       "23:21:25.301 | \u001b[36mINFO\u001b[0m    | Task run 'Train best model and test it-0' - [59]       validation-rmse:5.67601\n"
      ]
     },
     "metadata": {},
     "output_type": "display_data"
    },
    {
     "data": {
      "text/html": [
       "<pre style=\"white-space:pre;overflow-x:auto;line-height:normal;font-family:Menlo,'DejaVu Sans Mono',consolas,'Courier New',monospace\">23:21:25.345 | <span style=\"color: #008080; text-decoration-color: #008080\">INFO</span>    | Task run 'Train best model and test it-0' - [60]       validation-rmse:5.67605\n",
       "</pre>\n"
      ],
      "text/plain": [
       "23:21:25.345 | \u001b[36mINFO\u001b[0m    | Task run 'Train best model and test it-0' - [60]       validation-rmse:5.67605\n"
      ]
     },
     "metadata": {},
     "output_type": "display_data"
    },
    {
     "data": {
      "text/html": [
       "<pre style=\"white-space:pre;overflow-x:auto;line-height:normal;font-family:Menlo,'DejaVu Sans Mono',consolas,'Courier New',monospace\">23:21:25.385 | <span style=\"color: #008080; text-decoration-color: #008080\">INFO</span>    | Task run 'Train best model and test it-0' - [61]       validation-rmse:5.67608\n",
       "</pre>\n"
      ],
      "text/plain": [
       "23:21:25.385 | \u001b[36mINFO\u001b[0m    | Task run 'Train best model and test it-0' - [61]       validation-rmse:5.67608\n"
      ]
     },
     "metadata": {},
     "output_type": "display_data"
    },
    {
     "data": {
      "text/html": [
       "<pre style=\"white-space:pre;overflow-x:auto;line-height:normal;font-family:Menlo,'DejaVu Sans Mono',consolas,'Courier New',monospace\">23:21:25.433 | <span style=\"color: #008080; text-decoration-color: #008080\">INFO</span>    | Task run 'Train best model and test it-0' - [62]       validation-rmse:5.67609\n",
       "</pre>\n"
      ],
      "text/plain": [
       "23:21:25.433 | \u001b[36mINFO\u001b[0m    | Task run 'Train best model and test it-0' - [62]       validation-rmse:5.67609\n"
      ]
     },
     "metadata": {},
     "output_type": "display_data"
    },
    {
     "data": {
      "text/html": [
       "<pre style=\"white-space:pre;overflow-x:auto;line-height:normal;font-family:Menlo,'DejaVu Sans Mono',consolas,'Courier New',monospace\">23:21:25.473 | <span style=\"color: #008080; text-decoration-color: #008080\">INFO</span>    | Task run 'Train best model and test it-0' - [63]       validation-rmse:5.67615\n",
       "</pre>\n"
      ],
      "text/plain": [
       "23:21:25.473 | \u001b[36mINFO\u001b[0m    | Task run 'Train best model and test it-0' - [63]       validation-rmse:5.67615\n"
      ]
     },
     "metadata": {},
     "output_type": "display_data"
    },
    {
     "data": {
      "text/html": [
       "<pre style=\"white-space:pre;overflow-x:auto;line-height:normal;font-family:Menlo,'DejaVu Sans Mono',consolas,'Courier New',monospace\">23:21:25.521 | <span style=\"color: #008080; text-decoration-color: #008080\">INFO</span>    | Task run 'Train best model and test it-0' - [64]       validation-rmse:5.67618\n",
       "</pre>\n"
      ],
      "text/plain": [
       "23:21:25.521 | \u001b[36mINFO\u001b[0m    | Task run 'Train best model and test it-0' - [64]       validation-rmse:5.67618\n"
      ]
     },
     "metadata": {},
     "output_type": "display_data"
    },
    {
     "data": {
      "text/html": [
       "<pre style=\"white-space:pre;overflow-x:auto;line-height:normal;font-family:Menlo,'DejaVu Sans Mono',consolas,'Courier New',monospace\">23:21:25.566 | <span style=\"color: #008080; text-decoration-color: #008080\">INFO</span>    | Task run 'Train best model and test it-0' - [65]       validation-rmse:5.67627\n",
       "</pre>\n"
      ],
      "text/plain": [
       "23:21:25.566 | \u001b[36mINFO\u001b[0m    | Task run 'Train best model and test it-0' - [65]       validation-rmse:5.67627\n"
      ]
     },
     "metadata": {},
     "output_type": "display_data"
    },
    {
     "data": {
      "text/html": [
       "<pre style=\"white-space:pre;overflow-x:auto;line-height:normal;font-family:Menlo,'DejaVu Sans Mono',consolas,'Courier New',monospace\">23:21:25.610 | <span style=\"color: #008080; text-decoration-color: #008080\">INFO</span>    | Task run 'Train best model and test it-0' - [66]       validation-rmse:5.67629\n",
       "</pre>\n"
      ],
      "text/plain": [
       "23:21:25.610 | \u001b[36mINFO\u001b[0m    | Task run 'Train best model and test it-0' - [66]       validation-rmse:5.67629\n"
      ]
     },
     "metadata": {},
     "output_type": "display_data"
    },
    {
     "data": {
      "text/html": [
       "<pre style=\"white-space:pre;overflow-x:auto;line-height:normal;font-family:Menlo,'DejaVu Sans Mono',consolas,'Courier New',monospace\">23:21:25.656 | <span style=\"color: #008080; text-decoration-color: #008080\">INFO</span>    | Task run 'Train best model and test it-0' - [67]       validation-rmse:5.67631\n",
       "</pre>\n"
      ],
      "text/plain": [
       "23:21:25.656 | \u001b[36mINFO\u001b[0m    | Task run 'Train best model and test it-0' - [67]       validation-rmse:5.67631\n"
      ]
     },
     "metadata": {},
     "output_type": "display_data"
    },
    {
     "data": {
      "text/html": [
       "<pre style=\"white-space:pre;overflow-x:auto;line-height:normal;font-family:Menlo,'DejaVu Sans Mono',consolas,'Courier New',monospace\">23:21:25.698 | <span style=\"color: #008080; text-decoration-color: #008080\">INFO</span>    | Task run 'Train best model and test it-0' - [68]       validation-rmse:5.67631\n",
       "</pre>\n"
      ],
      "text/plain": [
       "23:21:25.698 | \u001b[36mINFO\u001b[0m    | Task run 'Train best model and test it-0' - [68]       validation-rmse:5.67631\n"
      ]
     },
     "metadata": {},
     "output_type": "display_data"
    },
    {
     "data": {
      "text/html": [
       "<pre style=\"white-space:pre;overflow-x:auto;line-height:normal;font-family:Menlo,'DejaVu Sans Mono',consolas,'Courier New',monospace\">23:21:25.794 | <span style=\"color: #008080; text-decoration-color: #008080\">INFO</span>    | Task run 'Train best model and test it-0' - [69]       validation-rmse:5.67631\n",
       "</pre>\n"
      ],
      "text/plain": [
       "23:21:25.794 | \u001b[36mINFO\u001b[0m    | Task run 'Train best model and test it-0' - [69]       validation-rmse:5.67631\n"
      ]
     },
     "metadata": {},
     "output_type": "display_data"
    },
    {
     "data": {
      "text/html": [
       "<pre style=\"white-space:pre;overflow-x:auto;line-height:normal;font-family:Menlo,'DejaVu Sans Mono',consolas,'Courier New',monospace\">23:21:32.489 | <span style=\"color: #008080; text-decoration-color: #008080\">INFO</span>    | Task run 'Train best model and test it-0' - Finished in state <span style=\"color: #008000; text-decoration-color: #008000\">Completed</span>()\n",
       "</pre>\n"
      ],
      "text/plain": [
       "23:21:32.489 | \u001b[36mINFO\u001b[0m    | Task run 'Train best model and test it-0' - Finished in state \u001b[32mCompleted\u001b[0m()\n"
      ]
     },
     "metadata": {},
     "output_type": "display_data"
    },
    {
     "data": {
      "text/html": [
       "<pre style=\"white-space:pre;overflow-x:auto;line-height:normal;font-family:Menlo,'DejaVu Sans Mono',consolas,'Courier New',monospace\">23:21:32.547 | <span style=\"color: #008080; text-decoration-color: #008080\">INFO</span>    | Flow run<span style=\"color: #800080; text-decoration-color: #800080\"> 'great-taipan'</span> - Finished in state <span style=\"color: #008000; text-decoration-color: #008000\">Completed</span>('All states completed.')\n",
       "</pre>\n"
      ],
      "text/plain": [
       "23:21:32.547 | \u001b[36mINFO\u001b[0m    | Flow run\u001b[35m 'great-taipan'\u001b[0m - Finished in state \u001b[32mCompleted\u001b[0m('All states completed.')\n"
      ]
     },
     "metadata": {},
     "output_type": "display_data"
    }
   ],
   "source": [
    "if __name__ == \"__main__\":\n",
    "    main_flow()"
   ]
  },
  {
   "cell_type": "code",
   "execution_count": 37,
   "id": "7896f8c9",
   "metadata": {},
   "outputs": [],
   "source": [
    "from prefect_email import EmailServerCredentials\n",
    "email_credentials_block = EmailServerCredentials.load(\"emailservercredentials\")"
   ]
  },
  {
   "cell_type": "code",
   "execution_count": 38,
   "id": "cf686e53",
   "metadata": {},
   "outputs": [
    {
     "data": {
      "text/plain": [
       "<coroutine object Block.load at 0x000001F845818040>"
      ]
     },
     "execution_count": 38,
     "metadata": {},
     "output_type": "execute_result"
    }
   ],
   "source": [
    "email_credentials_block"
   ]
  },
  {
   "cell_type": "code",
   "execution_count": null,
   "id": "80ce1f7a",
   "metadata": {},
   "outputs": [],
   "source": []
  }
 ],
 "metadata": {
  "kernelspec": {
   "display_name": "Python 3 (ipykernel)",
   "language": "python",
   "name": "python3"
  },
  "language_info": {
   "codemirror_mode": {
    "name": "ipython",
    "version": 3
   },
   "file_extension": ".py",
   "mimetype": "text/x-python",
   "name": "python",
   "nbconvert_exporter": "python",
   "pygments_lexer": "ipython3",
   "version": "3.8.16"
  }
 },
 "nbformat": 4,
 "nbformat_minor": 5
}
